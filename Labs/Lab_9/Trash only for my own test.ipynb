{
 "cells": [
  {
   "cell_type": "code",
   "execution_count": 1047,
   "metadata": {},
   "outputs": [],
   "source": [
    "import lab9_lib\n",
    "\n",
    "import random as random\n",
    "import math as math\n",
    "from copy import deepcopy\n",
    "from itertools import product\n",
    "from dataclasses import dataclass\n",
    "from typing import Optional, List"
   ]
  },
  {
   "cell_type": "code",
   "execution_count": 1048,
   "metadata": {},
   "outputs": [],
   "source": [
    "#create abstract problem\n",
    "fitness = lab9_lib.make_problem(10)"
   ]
  },
  {
   "cell_type": "markdown",
   "metadata": {},
   "source": [
    "# Trash only for my own test"
   ]
  },
  {
   "cell_type": "code",
   "execution_count": null,
   "metadata": {},
   "outputs": [
    {
     "data": {
      "text/plain": [
       "'\\ncalls = 0\\ngenome = random.choices([0, 1], k=GENOTYPE_SIZE)\\nprint(\"start genome\", genome)\\nx = 10\\n\\ndef onemax(genome):\\n    return sum(bool(g) for g in genome)\\n\\nfor i in range(2):\\n    calls += 1\\n    fitnesses = sorted((onemax(genome[s :: x]) for s in range(x)), reverse=True)\\n    val = sum(f for f in fitnesses if f == fitnesses[0]) - sum(\\n        f * (0.1 ** (k + 1)) for k, f in enumerate(f for f in fitnesses if f < fitnesses[0])\\n    )\\n    print(\" valore res\", (val / len(genome)) )\\n\\n\\n#creazione inziale\\nprova = random.choices([0, 1], k=50)#[ el for el in range(49)]\\n#controllo fitness\\nfitness = sorted((onemax(genome[s :: x]) for s in range(x)), reverse=True)\\nprint(\"Best fintess\", fitness[0])\\n#creazione vettore con elementi minori del elemento maggiore\\nnew_tmp=[]\\nfor f in fitness:\\n    if f < fitness[0]:\\n        new_tmp.append(f)\\n        print(\"==> \", f)\\n\\n#creazione di un valore che muove la virgola di 1 per ogni valore risultante nel vettore precedente\\nnew_2 = []\\nfor k, f in enumerate(new_tmp):\\n    abc = f * (0.1 ** (k + 1))\\n    new_2.append(abc)\\n    print(\"222=> \",abc)\\n\\n#calcolo della somma dei valori precedentemente raccolti\\nsomma = sum(new_2)\\nprint(somma)\\n\\nnew_tmp_2 = []\\nfor f in fitnesses:\\n    if f == fitnesses[0]:\\n        new_tmp_2.append(f)\\n\\nsomma_2 = sum(new_tmp_2)\\nprint(\"seconda somma \", somma_2)\\n\\ntotale = somma_2 - somma\\nprint(\"Differenza somme:\", totale) \\n'"
      ]
     },
     "execution_count": 1046,
     "metadata": {},
     "output_type": "execute_result"
    }
   ],
   "source": [
    "'''\n",
    "calls = 0\n",
    "genome = random.choices([0, 1], k=GENOTYPE_SIZE)\n",
    "print(\"start genome\", genome)\n",
    "x = 10\n",
    "\n",
    "def onemax(genome):\n",
    "    return sum(bool(g) for g in genome)\n",
    "\n",
    "for i in range(2):\n",
    "    calls += 1\n",
    "    fitnesses = sorted((onemax(genome[s :: x]) for s in range(x)), reverse=True)\n",
    "    val = sum(f for f in fitnesses if f == fitnesses[0]) - sum(\n",
    "        f * (0.1 ** (k + 1)) for k, f in enumerate(f for f in fitnesses if f < fitnesses[0])\n",
    "    )\n",
    "    print(\" valore res\", (val / len(genome)) )\n",
    "\n",
    "\n",
    "#creazione inziale\n",
    "prova = random.choices([0, 1], k=50)#[ el for el in range(49)]\n",
    "#controllo fitness\n",
    "fitness = sorted((onemax(genome[s :: x]) for s in range(x)), reverse=True)\n",
    "print(\"Best fintess\", fitness[0])\n",
    "#creazione vettore con elementi minori del elemento maggiore\n",
    "new_tmp=[]\n",
    "for f in fitness:\n",
    "    if f < fitness[0]:\n",
    "        new_tmp.append(f)\n",
    "        print(\"==> \", f)\n",
    "\n",
    "#creazione di un valore che muove la virgola di 1 per ogni valore risultante nel vettore precedente\n",
    "new_2 = []\n",
    "for k, f in enumerate(new_tmp):\n",
    "    abc = f * (0.1 ** (k + 1))\n",
    "    new_2.append(abc)\n",
    "    print(\"222=> \",abc)\n",
    "\n",
    "#calcolo della somma dei valori precedentemente raccolti\n",
    "somma = sum(new_2)\n",
    "print(somma)\n",
    "\n",
    "new_tmp_2 = []\n",
    "for f in fitnesses:\n",
    "    if f == fitnesses[0]:\n",
    "        new_tmp_2.append(f)\n",
    "\n",
    "somma_2 = sum(new_tmp_2)\n",
    "print(\"seconda somma \", somma_2)\n",
    "\n",
    "totale = somma_2 - somma\n",
    "print(\"Differenza somme:\", totale) \n",
    "'''"
   ]
  }
 ],
 "metadata": {
  "kernelspec": {
   "display_name": "ci-fLJ3OwGs-py3.12",
   "language": "python",
   "name": "python3"
  },
  "language_info": {
   "codemirror_mode": {
    "name": "ipython",
    "version": 3
   },
   "file_extension": ".py",
   "mimetype": "text/x-python",
   "name": "python",
   "nbconvert_exporter": "python",
   "pygments_lexer": "ipython3",
   "version": "3.10.5"
  }
 },
 "nbformat": 4,
 "nbformat_minor": 2
}
