{
 "cells": [
  {
   "cell_type": "markdown",
   "metadata": {},
   "source": [
    "Copyright **`(c)`** 2023 Giovanni Squillero `<giovanni.squillero@polito.it>`  \n",
    "[`https://github.com/squillero/computational-intelligence`](https://github.com/squillero/computational-intelligence)  \n",
    "Free for personal or classroom use; see [`LICENSE.md`](https://github.com/squillero/computational-intelligence/blob/master/LICENSE.md) for details.  "
   ]
  },
  {
   "cell_type": "markdown",
   "metadata": {},
   "source": [
    "# LAB9\n",
    "\n",
    "Write a local-search algorithm (eg. an EA) able to solve the *Problem* instances 1, 2, 5, and 10 on a 1000-loci genomes, using a minimum number of fitness calls. That's all.\n",
    "\n",
    "### Deadlines:\n",
    "\n",
    "* Submission: Sunday, December 3 ([CET](https://www.timeanddate.com/time/zones/cet))\n",
    "* Reviews: Sunday, December 10 ([CET](https://www.timeanddate.com/time/zones/cet))\n",
    "\n",
    "Notes:\n",
    "\n",
    "* Reviews will be assigned  on Monday, December 4\n",
    "* You need to commit in order to be selected as a reviewer (ie. better to commit an empty work than not to commit)"
   ]
  },
  {
   "cell_type": "code",
   "execution_count": 901,
   "metadata": {},
   "outputs": [],
   "source": [
    "from random import choices, choice, random, randint, uniform\n",
    "from copy import copy, deepcopy\n",
    "\n",
    "import lab9_lib\n",
    "from dataclasses import dataclass"
   ]
  },
  {
   "cell_type": "code",
   "execution_count": 902,
   "metadata": {},
   "outputs": [
    {
     "data": {
      "text/plain": [
       "'\\nprint(\"Massimo, \", fitness.x)\\nfor n in range(10):\\n    ind = choices([0, 1], k=50)\\n    print(f\"{\\'\\'.join(str(g) for g in ind)}: {fitness(ind):.2%}\")\\n\\nprint(fitness.calls)\\n'"
      ]
     },
     "execution_count": 902,
     "metadata": {},
     "output_type": "execute_result"
    }
   ],
   "source": [
    "fitness = lab9_lib.make_problem(10)\n",
    "'''\n",
    "print(\"Massimo, \", fitness.x)\n",
    "for n in range(10):\n",
    "    ind = choices([0, 1], k=50)\n",
    "    print(f\"{''.join(str(g) for g in ind)}: {fitness(ind):.2%}\")\n",
    "\n",
    "print(fitness.calls)\n",
    "'''"
   ]
  },
  {
   "cell_type": "markdown",
   "metadata": {},
   "source": [
    "# GA aproach"
   ]
  },
  {
   "cell_type": "code",
   "execution_count": 903,
   "metadata": {},
   "outputs": [],
   "source": [
    "# variables\n",
    "GENOTYPE_SIZE = 50\n",
    "POPULATION_SIZE = 90\n",
    "OFFSPRING_SIZE = 30\n",
    "TOURNAMENT_SIZE = 2\n",
    "MUTATION_PROBABILITY = .15"
   ]
  },
  {
   "cell_type": "code",
   "execution_count": 904,
   "metadata": {},
   "outputs": [],
   "source": [
    "#Individual class and methods\n",
    "@dataclass\n",
    "class Individual:\n",
    "    fitness: None\n",
    "    genotype: list[int]\n",
    "\n",
    "def elitism_selection(population, num_elites=1):\n",
    "    # Sort by fitness in descending order\n",
    "    sorted_population = sorted(population, key=lambda x: x.fitness, reverse=True)\n",
    "    \n",
    "    # Select the top individuals (elites)\n",
    "    elites = sorted_population[:num_elites]\n",
    "    \n",
    "    return elites\n",
    "\n",
    "def roulette_wheel_selection(population):\n",
    "    # Calculate total fitness\n",
    "    total_fitness = 0\n",
    "    for ind in population:\n",
    "        total_fitness += ind.fitness\n",
    "    \n",
    "    # Generate a random number between 0 and the total fitness\n",
    "    spin = uniform(0, total_fitness)\n",
    "\n",
    "    # Perform the selection\n",
    "    current_sum = 0\n",
    "    for ind in population:\n",
    "        current_sum += ind.fitness\n",
    "        if current_sum >= spin:\n",
    "            return ind\n",
    "\n",
    "def tournament_selection(pop):\n",
    "    pool = [choice(pop) for _ in range(TOURNAMENT_SIZE)]\n",
    "    champion = max(pool, key=lambda i: i.fitness)\n",
    "    return champion\n",
    "\n",
    "def mutate(ind: Individual) -> Individual:\n",
    "    offspring = copy(ind)\n",
    "    pos = randint(0, GENOTYPE_SIZE-1)\n",
    "    offspring.genotype[pos] = 1 - offspring.genotype[pos]\n",
    "    offspring.fitness = None\n",
    "    return offspring\n",
    "\n",
    "def one_cut_xover(ind1: Individual, ind2: Individual) -> (Individual, Individual):\n",
    "    cut_point = randint(0, GENOTYPE_SIZE-1)\n",
    "    offspring_1 = Individual(fitness=None,\n",
    "                           genotype=ind1.genotype[:cut_point] + ind2.genotype[cut_point:])\n",
    "    offspring_2 = Individual(fitness=None,\n",
    "                        genotype=ind2.genotype[:cut_point] + ind1.genotype[cut_point:])\n",
    "    \n",
    "    assert (len(offspring_1.genotype) == GENOTYPE_SIZE) and (len(offspring_2.genotype) == GENOTYPE_SIZE)\n",
    "    return offspring_1, offspring_2\n",
    "\n",
    "def two_cut_xover(ind1: Individual, ind2: Individual) -> (Individual, Individual):\n",
    "    #check that I have two genotypes made up of at least 3 elements\n",
    "    assert len(ind1.genotype) > 2 and len(ind2.genotype) > 2\n",
    "    \n",
    "    #fisrt cut can't be the first element and neither the 2 before the end (end included)\n",
    "    first_cut = randint(1, len(ind2.genotype)-2)\n",
    "    #second cut can't be the second and neither the 1 before the end (end included)\n",
    "    second_cut = randint(first_cut+1, len(ind2.genotype)-1)\n",
    "    #print(first_cut, second_cut)\n",
    "\n",
    "    #create the new child with the new cut\n",
    "    offspring_1 = Individual(fitness=None,\n",
    "                           genotype=ind1.genotype[:first_cut] + ind2.genotype[first_cut:second_cut] + ind1.genotype[second_cut:])\n",
    "    #create the new child with the new cut\n",
    "    offspring_2 = Individual(fitness=None,\n",
    "                           genotype=ind2.genotype[:first_cut] + ind1.genotype[first_cut:second_cut] + ind2.genotype[second_cut:])\n",
    "\n",
    "    assert (len(offspring_1.genotype) == GENOTYPE_SIZE) and (len(offspring_2.genotype) == GENOTYPE_SIZE)\n",
    "    return offspring_1, offspring_2\n",
    "\n",
    "def three_cut_xover(ind1: Individual, ind2: Individual) -> (Individual, Individual):\n",
    "    #check that I have two genotypes made up of at least 4 elements\n",
    "    assert len(ind1.genotype) > 3 and len(ind2.genotype) > 3\n",
    "    \n",
    "    #fisrt cut can't be the first element and neither the 3 before the end (end included)\n",
    "    first_cut = randint(1, len(ind2.genotype)-3)\n",
    "    #second cut can't be the second and neither the 2 before the end (end included)\n",
    "    second_cut = randint(first_cut+1, len(ind2.genotype)-2)\n",
    "    #third cut can't be the second and neither the 1 before the end (end included)\n",
    "    third_cut = randint(second_cut+1, len(ind2.genotype)-1)\n",
    "    #print(first_cut, second_cut, third_cut)\n",
    "\n",
    "    #create the new child with the new cut\n",
    "    offspring_1 = Individual(fitness=None,\n",
    "                           genotype=ind1.genotype[:first_cut] + ind2.genotype[first_cut:second_cut] +\n",
    "                                    ind1.genotype[second_cut:third_cut] + ind2.genotype[third_cut:])\n",
    "    #create the new child with the new cut\n",
    "    offspring_2 = Individual(fitness=None,\n",
    "                           genotype=ind2.genotype[:first_cut] + ind1.genotype[first_cut:second_cut] +\n",
    "                                    ind2.genotype[second_cut:third_cut] + ind1.genotype[third_cut:])\n",
    "    \n",
    "    assert (len(offspring_1.genotype) == GENOTYPE_SIZE) and (len(offspring_2.genotype) == GENOTYPE_SIZE)\n",
    "    return offspring_1, offspring_2\n",
    "\n",
    "def uniform_xover(ind1: Individual, ind2: Individual) -> (Individual, Individual):\n",
    "    #check that I have two genotypes of the same lenght\n",
    "    assert len(ind1.genotype) == len(ind2.genotype) \n",
    "    \n",
    "    #create the new child with the new cut\n",
    "    offspring_1 = Individual(fitness=None, genotype=[])\n",
    "    #create the new child with the new cut\n",
    "    offspring_2 = Individual(fitness=None, genotype=[])\n",
    "\n",
    "    #fill the two of their genotype\n",
    "    for i in range(GENOTYPE_SIZE):\n",
    "        if(choice((0, 1)) == 1):\n",
    "            offspring_1.genotype.append(ind1.genotype[i])\n",
    "            offspring_2.genotype.append(ind2.genotype[i])\n",
    "        else:\n",
    "            offspring_1.genotype.append(ind2.genotype[i])\n",
    "            offspring_2.genotype.append(ind1.genotype[i])\n",
    "\n",
    "    assert (len(offspring_1.genotype) == GENOTYPE_SIZE) and (len(offspring_2.genotype) == GENOTYPE_SIZE)\n",
    "    return offspring_1, offspring_2\n",
    "\n",
    "#put all xover in a list\n",
    "xover_functions = [one_cut_xover, two_cut_xover, three_cut_xover, uniform_xover]"
   ]
  },
  {
   "cell_type": "code",
   "execution_count": 905,
   "metadata": {},
   "outputs": [],
   "source": [
    "#start the population \n",
    "population = [\n",
    "    Individual(\n",
    "        genotype = choices([0, 1], k=50),\n",
    "        fitness = None,\n",
    "    )\n",
    "    for _ in range(POPULATION_SIZE)\n",
    "]\n",
    "#add the fitness to every individuals\n",
    "for i in population:\n",
    "    i.fitness = fitness(i.genotype)"
   ]
  },
  {
   "cell_type": "code",
   "execution_count": 906,
   "metadata": {},
   "outputs": [
    {
     "name": "stdout",
     "output_type": "stream",
     "text": [
      "===> 90\n"
     ]
    }
   ],
   "source": [
    "#First algorithm\n",
    "\n",
    "# Variable for exit if the fitness is stationary\n",
    "# The first element of the list represents the previous fitness, and the second element is the number of consecutive times it has been observed.\n",
    "last_fitness = [0, 0]\n",
    "\n",
    "while(False): #for generation in range(100):\n",
    "    offspring = list()\n",
    "    \n",
    "    for counter in range(OFFSPRING_SIZE):\n",
    "        if random() < MUTATION_PROBABILITY:  # self-adapt mutation probability\n",
    "            # mutation  # add more clever mutations\n",
    "            parent = roulette_wheel_selection(population)\n",
    "            child = mutate(parent)\n",
    "            #add new child to offspring\n",
    "            offspring.append(child)\n",
    "        else:\n",
    "            # xover # add more xovers\n",
    "            parent_1 = roulette_wheel_selection(population)\n",
    "            parent_2 = roulette_wheel_selection(population)\n",
    "            #choose random the crossover function to incress the diversity\n",
    "            child_1, child_2 = xover_functions[randint(0, len(xover_functions)-1)](parent_1, parent_2)\n",
    "            #add new children to offspring\n",
    "            offspring.extend([child_1, child_2])\n",
    "\n",
    "    for i in offspring:\n",
    "        i.fitness = fitness(i.genotype)\n",
    "        \n",
    "    population.extend(offspring)\n",
    "    population.sort(key=lambda i: i.fitness, reverse=True)\n",
    "    population = population[:POPULATION_SIZE]\n",
    "\n",
    "    # Check to halt the code in the event of a stationary minimum.\n",
    "    if(population[0].fitness == last_fitness[0]):\n",
    "        last_fitness[1]+=1\n",
    "    else:\n",
    "        last_fitness[1] = 0\n",
    "    last_fitness[0] = population[0].fitness\n",
    "    if(last_fitness[1] > 30):\n",
    "        break\n",
    "    \n",
    "    print(\"calls:\",fitness._calls, \"\\tfitness: \",population[0].fitness)\n",
    "\n",
    "\n",
    "print(\"===>\", fitness.calls)"
   ]
  },
  {
   "cell_type": "markdown",
   "metadata": {},
   "source": [
    "# Island Model"
   ]
  },
  {
   "cell_type": "code",
   "execution_count": null,
   "metadata": {},
   "outputs": [],
   "source": []
  },
  {
   "cell_type": "markdown",
   "metadata": {},
   "source": [
    "# Trash only for my own test"
   ]
  },
  {
   "cell_type": "code",
   "execution_count": 907,
   "metadata": {},
   "outputs": [
    {
     "data": {
      "text/plain": [
       "'\\ncalls = 0\\ngenome = choices([0, 1], k=GENOTYPE_SIZE)\\nprint(\"start genome\", genome)\\nx = 10\\n\\ndef onemax(genome):\\n    return sum(bool(g) for g in genome)\\n\\nfor i in range(2):\\n    calls += 1\\n    fitnesses = sorted((onemax(genome[s :: x]) for s in range(x)), reverse=True)\\n    val = sum(f for f in fitnesses if f == fitnesses[0]) - sum(\\n        f * (0.1 ** (k + 1)) for k, f in enumerate(f for f in fitnesses if f < fitnesses[0])\\n    )\\n    print(\" valore res\", (val / len(genome)) )\\n\\n\\n#creazione inziale\\nprova = choices([0, 1], k=50)#[ el for el in range(49)]\\n#controllo fitness\\nfitness = sorted((onemax(genome[s :: x]) for s in range(x)), reverse=True)\\nprint(\"Best fintess\", fitness[0])\\n#creazione vettore con elementi minori del elemento maggiore\\nnew_tmp=[]\\nfor f in fitness:\\n    if f < fitness[0]:\\n        new_tmp.append(f)\\n        print(\"==> \", f)\\n\\n#creazione di un valore che muove la virgola di 1 per ogni valore risultante nel vettore precedente\\nnew_2 = []\\nfor k, f in enumerate(new_tmp):\\n    abc = f * (0.1 ** (k + 1))\\n    new_2.append(abc)\\n    print(\"222=> \",abc)\\n\\n#calcolo della somma dei valori precedentemente raccolti\\nsomma = sum(new_2)\\nprint(somma)\\n\\nnew_tmp_2 = []\\nfor f in fitnesses:\\n    if f == fitnesses[0]:\\n        new_tmp_2.append(f)\\n\\nsomma_2 = sum(new_tmp_2)\\nprint(\"seconda somma \", somma_2)\\n\\ntotale = somma_2 - somma\\nprint(\"Differenza somme:\", totale) \\n'"
      ]
     },
     "execution_count": 907,
     "metadata": {},
     "output_type": "execute_result"
    }
   ],
   "source": [
    "'''\n",
    "calls = 0\n",
    "genome = choices([0, 1], k=GENOTYPE_SIZE)\n",
    "print(\"start genome\", genome)\n",
    "x = 10\n",
    "\n",
    "def onemax(genome):\n",
    "    return sum(bool(g) for g in genome)\n",
    "\n",
    "for i in range(2):\n",
    "    calls += 1\n",
    "    fitnesses = sorted((onemax(genome[s :: x]) for s in range(x)), reverse=True)\n",
    "    val = sum(f for f in fitnesses if f == fitnesses[0]) - sum(\n",
    "        f * (0.1 ** (k + 1)) for k, f in enumerate(f for f in fitnesses if f < fitnesses[0])\n",
    "    )\n",
    "    print(\" valore res\", (val / len(genome)) )\n",
    "\n",
    "\n",
    "#creazione inziale\n",
    "prova = choices([0, 1], k=50)#[ el for el in range(49)]\n",
    "#controllo fitness\n",
    "fitness = sorted((onemax(genome[s :: x]) for s in range(x)), reverse=True)\n",
    "print(\"Best fintess\", fitness[0])\n",
    "#creazione vettore con elementi minori del elemento maggiore\n",
    "new_tmp=[]\n",
    "for f in fitness:\n",
    "    if f < fitness[0]:\n",
    "        new_tmp.append(f)\n",
    "        print(\"==> \", f)\n",
    "\n",
    "#creazione di un valore che muove la virgola di 1 per ogni valore risultante nel vettore precedente\n",
    "new_2 = []\n",
    "for k, f in enumerate(new_tmp):\n",
    "    abc = f * (0.1 ** (k + 1))\n",
    "    new_2.append(abc)\n",
    "    print(\"222=> \",abc)\n",
    "\n",
    "#calcolo della somma dei valori precedentemente raccolti\n",
    "somma = sum(new_2)\n",
    "print(somma)\n",
    "\n",
    "new_tmp_2 = []\n",
    "for f in fitnesses:\n",
    "    if f == fitnesses[0]:\n",
    "        new_tmp_2.append(f)\n",
    "\n",
    "somma_2 = sum(new_tmp_2)\n",
    "print(\"seconda somma \", somma_2)\n",
    "\n",
    "totale = somma_2 - somma\n",
    "print(\"Differenza somme:\", totale) \n",
    "'''"
   ]
  }
 ],
 "metadata": {
  "kernelspec": {
   "display_name": "ci-fLJ3OwGs-py3.12",
   "language": "python",
   "name": "python3"
  },
  "language_info": {
   "codemirror_mode": {
    "name": "ipython",
    "version": 3
   },
   "file_extension": ".py",
   "mimetype": "text/x-python",
   "name": "python",
   "nbconvert_exporter": "python",
   "pygments_lexer": "ipython3",
   "version": "3.10.5"
  }
 },
 "nbformat": 4,
 "nbformat_minor": 2
}
