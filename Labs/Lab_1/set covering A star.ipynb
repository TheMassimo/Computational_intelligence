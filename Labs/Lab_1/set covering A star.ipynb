{
 "cells": [
  {
   "cell_type": "code",
   "execution_count": 208,
   "metadata": {},
   "outputs": [],
   "source": [
    "from random import random\n",
    "from math import ceil\n",
    "from functools import reduce\n",
    "from collections import namedtuple, deque\n",
    "from queue import PriorityQueue\n",
    "\n",
    "import numpy as np\n",
    "from tqdm.auto import tqdm"
   ]
  },
  {
   "cell_type": "code",
   "execution_count": 209,
   "metadata": {},
   "outputs": [],
   "source": [
    "State = namedtuple('State', ['taken', 'not_taken'])\n",
    "\n",
    "def covered(state):\n",
    "    return reduce(\n",
    "        np.logical_or,\n",
    "        [SETS[i] for i in state.taken],\n",
    "        np.array([False for _ in range(PROBLEM_SIZE)]),\n",
    "    )\n",
    "\n",
    "def goal_check(state):\n",
    "    return np.all(covered(state))"
   ]
  },
  {
   "cell_type": "code",
   "execution_count": 210,
   "metadata": {},
   "outputs": [],
   "source": [
    "PROBLEM_SIZE = 10\n",
    "NUM_SETS = 15\n",
    "SETS = tuple(np.array([random() < 0.2 for _ in range(PROBLEM_SIZE)]) for _ in range(NUM_SETS))\n",
    "assert goal_check(State(set(range(NUM_SETS)), set())), \"Probelm not solvable\""
   ]
  },
  {
   "cell_type": "markdown",
   "metadata": {},
   "source": [
    "## A*"
   ]
  },
  {
   "cell_type": "code",
   "execution_count": 231,
   "metadata": {},
   "outputs": [
    {
     "name": "stdout",
     "output_type": "stream",
     "text": [
      "[False False False False False False False  True False False]\n",
      "[False False False False False False False  True False False]\n",
      "[ True  True False  True False False False False False False]\n",
      "[False False False False False False False False False  True]\n",
      "[False  True False False  True False  True False False  True]\n",
      "[False False False  True False False False False False False]\n",
      "[False  True False False False  True False False False False]\n",
      "[False False False False False False  True False False False]\n",
      "[False False  True False  True False  True False False False]\n",
      "[False  True  True  True False  True False False  True False]\n",
      "[ True False False False False False  True False False  True]\n",
      "[ True False False False False False False False False False]\n",
      "[False False  True False  True False False False False False]\n",
      "[ True False False  True False False False False  True  True]\n",
      "[False False False False False False  True False  True False]\n",
      "\n",
      "[ True  True False  True False False False  True False  True]\n",
      "5\n"
     ]
    }
   ],
   "source": [
    "for i in range(len(SETS)):\n",
    "    print(SETS[i])\n",
    "\n",
    "\n",
    "state = State({0,1,2,3}, {3,4,5})\n",
    "print()\n",
    "print( covered(state) )\n",
    "print( sum(covered(state)) )\n",
    "\n",
    "\n",
    "state = State({1, 2, 3}, {4, 5, 6})\n",
    "new_state\n"
   ]
  },
  {
   "cell_type": "code",
   "execution_count": 244,
   "metadata": {},
   "outputs": [],
   "source": [
    "#evaluate the distance considering the amount of total taken and not_taken in the total need\n",
    "def h(state):\n",
    "    #find the set with the max size\n",
    "    largest_set_size = max(sum(s) for s in SETS)\n",
    "    missing_size = PROBLEM_SIZE - sum(covered(state))\n",
    "    optimistic_estimate = ceil(missing_size / largest_set_size)\n",
    "    return optimistic_estimate\n",
    "\n",
    "\n",
    "def h2(state):\n",
    "    #vector with the total area covered ( like [T,F,F,T..])\n",
    "    already_covered = covered(state)\n",
    "    if np.all(already_covered):\n",
    "        return 0\n",
    "    largest_set_size = max(sum(np.logical_and(s, np.logical_not(already_covered))) for s in SETS)\n",
    "    missing_size = PROBLEM_SIZE - sum(already_covered)\n",
    "    optimistic_estimate = ceil(missing_size / largest_set_size)\n",
    "    return optimistic_estimate\n",
    "\n",
    "\n",
    "def h3(state):\n",
    "    already_covered = covered(state)\n",
    "    if np.all(already_covered):\n",
    "        return 0\n",
    "    missing_size = PROBLEM_SIZE - sum(already_covered)\n",
    "    candidates = sorted((sum(np.logical_and(s, np.logical_not(already_covered))) for s in SETS), reverse=True)\n",
    "    taken = 1\n",
    "    while sum(candidates[:taken]) < missing_size:\n",
    "        taken += 1\n",
    "    return taken\n",
    "\n",
    "#it seems a very dumb approc but that get the better soluction than the other, in fact we count the total number of T in the SETS and the T that i have found\n",
    "#so i return the num of remains tiles and more tile i have left more possibility i have for the solution\n",
    "#i put total outside because i need to calculate it only one time\n",
    "total_tiles = sum(sum(s) for s in SETS)\n",
    "def h4(state):\n",
    "    actual_tiles = sum(sum(s) for s in [SETS[i] for i in state.taken])\n",
    "    optimistic_estimate = total_tiles - actual_tiles\n",
    "    return optimistic_estimate\n",
    "\n",
    "#try to give only an extra point if the previous state is better than the previous\n",
    "def h5(state, old_state):\n",
    "    if( sum(covered(state)) > sum(covered(old_state)) ):\n",
    "        return 1\n",
    "    else:\n",
    "        return 0\n",
    "    \n",
    "def f2(state, old_state):\n",
    "    return len(state.taken) + h5(state, old_state)\n",
    "\n",
    "def f(state):\n",
    "    return len(state.taken) + h4(state)"
   ]
  },
  {
   "cell_type": "code",
   "execution_count": 246,
   "metadata": {},
   "outputs": [
    {
     "name": "stderr",
     "output_type": "stream",
     "text": [
      "10it [00:00, 1794.97it/s]"
     ]
    },
    {
     "name": "stdout",
     "output_type": "stream",
     "text": [
      "Solved in 10 steps (10 tiles)\n"
     ]
    },
    {
     "name": "stderr",
     "output_type": "stream",
     "text": [
      "\n"
     ]
    }
   ],
   "source": [
    "frontier = PriorityQueue()\n",
    "state = State(set(), set(range(NUM_SETS)))\n",
    "frontier.put((f(state), state))\n",
    "\n",
    "counter = 0\n",
    "_, current_state = frontier.get()\n",
    "with tqdm(total=None) as pbar:\n",
    "    while not goal_check(current_state):\n",
    "        counter += 1\n",
    "        for action in current_state[1]:\n",
    "            new_state = State(\n",
    "                current_state.taken ^ {action},\n",
    "                current_state.not_taken ^ {action},\n",
    "            )\n",
    "            frontier.put((f(new_state), new_state))\n",
    "            #frontier.put((f2(new_state, current_state), new_state))\n",
    "        _, current_state = frontier.get()\n",
    "        pbar.update(1)\n",
    "\n",
    "print(f\"Solved in {counter:,} steps ({len(current_state.taken)} tiles)\")"
   ]
  }
 ],
 "metadata": {
  "kernelspec": {
   "display_name": "Python 3 (ipykernel)",
   "language": "python",
   "name": "python3"
  },
  "language_info": {
   "codemirror_mode": {
    "name": "ipython",
    "version": 3
   },
   "file_extension": ".py",
   "mimetype": "text/x-python",
   "name": "python",
   "nbconvert_exporter": "python",
   "pygments_lexer": "ipython3",
   "version": "3.10.5"
  }
 },
 "nbformat": 4,
 "nbformat_minor": 4
}
