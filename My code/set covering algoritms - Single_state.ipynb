{
 "cells": [
  {
   "cell_type": "code",
   "execution_count": 413,
   "metadata": {},
   "outputs": [],
   "source": [
    "from random import random, choice, randint\n",
    "import operator\n",
    "from functools import reduce #for use reduce function\n",
    "from collections import namedtuple\n",
    "from queue import PriorityQueue #for the frontier\n",
    "import numpy as np\n",
    "from copy import copy"
   ]
  },
  {
   "cell_type": "code",
   "execution_count": 414,
   "metadata": {},
   "outputs": [],
   "source": [
    "PROBLEM_SIZE = 10\n",
    "NUM_SETS = 30\n",
    "\n",
    "#this line create an array of \"PROBLEM_SIZE\" size with random boolean value\n",
    "#np.array([random() < .2 for _ in range(PROBLEM_SIZE)])\n",
    "#This line create a set that have the total number of sets and put it in a tuple\n",
    "SETS = tuple ( ( np.array([random() < .2 for _ in range(PROBLEM_SIZE)]) for _ in range(NUM_SETS)) )\n",
    "#for know if a state is taken or not we use a tuple\n",
    "State = namedtuple('State', ['taken', 'not_taken'])"
   ]
  },
  {
   "cell_type": "code",
   "execution_count": 415,
   "metadata": {},
   "outputs": [],
   "source": [
    "def evaluate(state):\n",
    "  cost = sum(state)\n",
    "  valid = np.all(\n",
    "    reduce(\n",
    "      np.logical_or, [SETS[i] for i, t in enumerate(state) if t], np.array([False for _ in range(PROBLEM_SIZE)]) \n",
    "    )\n",
    "  )\n",
    "  return valid, -cost if valid else 0"
   ]
  },
  {
   "cell_type": "code",
   "execution_count": 416,
   "metadata": {},
   "outputs": [],
   "source": [
    "#to prevently check if the problem have a solution\n",
    "state_all = State(set(range(NUM_SETS)), set())\n",
    "assert goal_check( state_all ), \"Problem not solvable\""
   ]
  },
  {
   "cell_type": "code",
   "execution_count": 417,
   "metadata": {},
   "outputs": [],
   "source": [
    "def tewak(state):\n",
    "    new_state = copy(state)\n",
    "    index = randint(0, PROBLEM_SIZE-1)\n",
    "    new_state[index] = not new_state[index]\n",
    "    return new_state\n",
    "    "
   ]
  },
  {
   "cell_type": "code",
   "execution_count": 418,
   "metadata": {},
   "outputs": [
    {
     "name": "stdout",
     "output_type": "stream",
     "text": [
      "[True, True, True, True, True, True, False, False, False, True] (False, 0)\n"
     ]
    }
   ],
   "source": [
    "current_state = [choice([True, False]) for _ in range(PROBLEM_SIZE)]\n",
    "print(current_state, evaluate(current_state))\n",
    "\n",
    "for step in range(100):\n",
    "    new_state = tewak(current_state)\n",
    "    if evaluate(new_state) > evaluate(current_state):\n",
    "        current_state = new_state\n",
    "        print(current_state, evaluate(current_state))"
   ]
  },
  {
   "cell_type": "code",
   "execution_count": null,
   "metadata": {},
   "outputs": [],
   "source": []
  }
 ],
 "metadata": {
  "kernelspec": {
   "display_name": "venv",
   "language": "python",
   "name": "python3"
  },
  "language_info": {
   "codemirror_mode": {
    "name": "ipython",
    "version": 3
   },
   "file_extension": ".py",
   "mimetype": "text/x-python",
   "name": "python",
   "nbconvert_exporter": "python",
   "pygments_lexer": "ipython3",
   "version": "3.10.5"
  }
 },
 "nbformat": 4,
 "nbformat_minor": 2
}
