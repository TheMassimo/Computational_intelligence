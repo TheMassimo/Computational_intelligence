{
 "cells": [
  {
   "cell_type": "markdown",
   "id": "185f9931-b384-4fdc-a5b2-eea785428bb8",
   "metadata": {},
   "source": [
    "Copyright **`(c)`** 2023 Giovanni Squillero `<giovanni.squillero@polito.it>`  \n",
    "[`https://github.com/squillero/computational-intelligence`](https://github.com/squillero/computational-intelligence)  \n",
    "Free for personal or classroom use; see [`LICENSE.md`](https://github.com/squillero/computational-intelligence/blob/master/LICENSE.md) for details.  "
   ]
  },
  {
   "cell_type": "code",
   "execution_count": 272,
   "id": "3ffe7245-e849-41d0-9698-5f0e0b83fee9",
   "metadata": {},
   "outputs": [],
   "source": [
    "from itertools import product\n",
    "from random import random, randint, shuffle, seed, choice\n",
    "import numpy as np\n",
    "from scipy import sparse\n",
    "from functools import reduce\n",
    "from copy import copy\n",
    "import math"
   ]
  },
  {
   "cell_type": "code",
   "execution_count": 273,
   "id": "6f03bd67-78a0-4d72-95b7-77a918727b91",
   "metadata": {},
   "outputs": [],
   "source": [
    "def make_set_covering_problem(num_points, num_sets, density):\n",
    "    \"\"\"Returns a sparse array where rows are sets and columns are the covered items\"\"\"\n",
    "    seed(num_points*2654435761+num_sets+density)\n",
    "    #inizialize a matrix with all False (by default)\n",
    "    sets = sparse.lil_array((num_sets, num_points), dtype=bool)\n",
    "\n",
    "    #put True values in the matrix according to the probability in the density\n",
    "    for s, p in product(range(num_sets), range(num_points)):\n",
    "        if random() < density:\n",
    "            sets[s, p] = True\n",
    "            \n",
    "    #put a True in all the position at least for every position\n",
    "    for p in range(num_points):\n",
    "        sets[randint(0, num_sets-1), p] = True\n",
    "    return sets"
   ]
  },
  {
   "cell_type": "markdown",
   "id": "82b0be37-21d9-492d-9a1d-cf0cdf0ddd76",
   "metadata": {},
   "source": [
    "# Halloween Challenge\n",
    "\n",
    "Find the best solution with the fewest calls to the fitness functions for:\n",
    "\n",
    "* `num_points = [100, 1_000, 5_000]`\n",
    "* `num_sets = num_points`\n",
    "* `density = [.3, .7]` "
   ]
  },
  {
   "cell_type": "code",
   "execution_count": 274,
   "id": "5f3edfb2",
   "metadata": {},
   "outputs": [],
   "source": [
    "NUM_POINTS = 100\n",
    "NUM_SETS = 100\n",
    "DENSITY = .3\n",
    "\n",
    "NUM_STEPS = 1_000"
   ]
  },
  {
   "cell_type": "code",
   "execution_count": null,
   "id": "221ffdba-5d3d-48cc-bd08-45ccc9366ea6",
   "metadata": {},
   "outputs": [],
   "source": [
    "SETS = make_set_covering_problem(NUM_POINTS, NUM_SETS, DENSITY)\n",
    "print(\"Element at row=42 and column=42:\", SETS[42, 42])\n",
    "print(SETS.toarray()[0])"
   ]
  },
  {
   "cell_type": "markdown",
   "id": "6492337b-8429-472d-9c3e-c79c5b46da54",
   "metadata": {},
   "source": [
    "# Common functions\n",
    "\n",
    "simple\n",
    "\n",
    "* `fitness`"
   ]
  },
  {
   "cell_type": "code",
   "execution_count": 276,
   "id": "a20cd847",
   "metadata": {},
   "outputs": [],
   "source": [
    "def fitness1(state):\n",
    "    cost = sum(state)\n",
    "    valid = np.all(\n",
    "        reduce(\n",
    "            np.logical_or,\n",
    "            [SETS[i] for i, t in enumerate(state) if t],\n",
    "            np.array([False for _ in range(NUM_POINTS)]),\n",
    "        )\n",
    "    )\n",
    "    return valid, -cost\n",
    "\n",
    "def fitness2(state):\n",
    "    cost = sum(state)\n",
    "    valid = np.sum(\n",
    "        reduce(\n",
    "            np.logical_or,\n",
    "            [SETS.toarray()[i] for i, t in enumerate(state) if t],\n",
    "            np.array([False for _ in range(NUM_POINTS)]),\n",
    "        )\n",
    "    )\n",
    "    return valid, -cost\n",
    "\n",
    "def fitness3(state):\n",
    "    cost = sum(state)\n",
    "    valid = np.sum(\n",
    "        reduce(\n",
    "            np.logical_or,\n",
    "            [SETS.toarray()[i] for i, t in enumerate(state) if t],\n",
    "            np.array([False for _ in range(NUM_POINTS)]),\n",
    "        )\n",
    "    )\n",
    "    return valid, cost\n",
    "    \n",
    "\n",
    "fitness = fitness2"
   ]
  },
  {
   "cell_type": "code",
   "execution_count": 277,
   "id": "d7205bb0",
   "metadata": {},
   "outputs": [],
   "source": [
    "def tweak(state):\n",
    "    new_state = copy(state)\n",
    "    index = randint(0, NUM_SETS - 1)\n",
    "    new_state[index] = not new_state[index]\n",
    "    return new_state"
   ]
  },
  {
   "cell_type": "markdown",
   "id": "a1a2a8cb",
   "metadata": {},
   "source": [
    "# Hill Climbing (Local search)"
   ]
  },
  {
   "cell_type": "code",
   "execution_count": null,
   "id": "4570c0b0",
   "metadata": {},
   "outputs": [],
   "source": [
    "def local_search(current_state):\n",
    "    for step in range(NUM_STEPS):\n",
    "        new_state = tweak(current_state)\n",
    "        if fitness(new_state) >= fitness(current_state):\n",
    "            current_state = new_state\n",
    "            print(fitness(current_state))\n",
    "\n",
    "    return current_state\n",
    "\n",
    "\n",
    "current_state = [False for _ in range(NUM_SETS)]\n",
    "\n",
    "final_state = local_search(current_state)\n",
    "print(fitness(final_state))"
   ]
  },
  {
   "cell_type": "markdown",
   "id": "b34df8f8",
   "metadata": {},
   "source": [
    "# Simulated Annealing"
   ]
  },
  {
   "cell_type": "code",
   "execution_count": null,
   "id": "cfd63559",
   "metadata": {},
   "outputs": [],
   "source": [
    "current_state = [False for _ in range(NUM_SETS)]\n",
    "print(fitness(current_state))\n",
    "\n",
    "#start from NUM_STEPS+1 and go up to 1 (NUM_STEPS+1 becouse the loop finish at 1 and not 0 so i need to get one back\n",
    "#  and i finish at 1 and not 0 because it is not possibile to divided by 0)\n",
    "for time in range(NUM_STEPS+1, 0, -1):\n",
    "    new_state = tweak(current_state)\n",
    "    #get actual fitness\n",
    "    v1, c1 = fitness(current_state) #f (s)\n",
    "    v2, c2 = fitness(new_state)     #f'(s)\n",
    "    f = (v1-c1)\n",
    "    f1 = (v2-c2)\n",
    "    #calcolate p (probability of accepting a worsening solution)\n",
    "    p = math.exp(- ((f-f1)/time) ) # p = e^ ((f (s) - f'(s))/time)\n",
    "    print(\"==>\", p, time)\n",
    "    if ( fitness(new_state) >= fitness(current_state) ) or (random() < p):\n",
    "        current_state = new_state\n",
    "        print(fitness(current_state))"
   ]
  },
  {
   "cell_type": "markdown",
   "id": "773557aa",
   "metadata": {},
   "source": [
    "# Tabu Search"
   ]
  },
  {
   "cell_type": "code",
   "execution_count": 259,
   "id": "4cb14035",
   "metadata": {},
   "outputs": [],
   "source": [
    "NUM_NEIGHBORS = 20\n",
    "TABU_LIST_MAX_SIZE = 10"
   ]
  },
  {
   "cell_type": "code",
   "execution_count": 256,
   "id": "80c84623",
   "metadata": {},
   "outputs": [],
   "source": [
    "def is_valid(state):\n",
    "    tot, _ = fitness(state)\n",
    "    if(tot == NUM_POINTS):\n",
    "        return True\n",
    "    return False"
   ]
  },
  {
   "cell_type": "code",
   "execution_count": null,
   "id": "ae3bebca",
   "metadata": {},
   "outputs": [],
   "source": [
    "tabu_list = []\n",
    "#current_state = [False for _ in range(NUM_SETS)] #hight probability of initial stagnation\n",
    "current_state = [choice([True, False]) for _ in range(NUM_SETS)]\n",
    "\n",
    "for iteration in range(NUM_STEPS):\n",
    "    neighbors = [tweak(current_state) for _ in range(NUM_NEIGHBORS)]\n",
    "    \n",
    "    # Select valid candidates not in tabu list\n",
    "    candidates = [sol for sol in neighbors if is_valid(sol) and sol not in tabu_list]\n",
    "    \n",
    "    if not candidates:\n",
    "        # Any candidates avaiable, it coud be an arrest point\n",
    "        break\n",
    "    \n",
    "    # Valuta candidati e scegli il migliore\n",
    "    best_candidate = min(candidates, key=fitness3)\n",
    "    \n",
    "    # Aggiorna la lista tabù con la mossa corrente\n",
    "    tabu_list.append(best_candidate)\n",
    "    \n",
    "    # Rimuovi le mosse più vecchie dalla lista tabù se è troppo lunga\n",
    "    if len(tabu_list) > TABU_LIST_MAX_SIZE:\n",
    "        tabu_list.pop(0)\n",
    "    \n",
    "    # Aggiorna la soluzione corrente con il miglior candidato\n",
    "    current_state = best_candidate\n",
    "\n",
    "    print(fitness(current_state))\n"
   ]
  },
  {
   "cell_type": "markdown",
   "id": "d1b862f7",
   "metadata": {},
   "source": [
    "# Iterated Local Search"
   ]
  },
  {
   "cell_type": "code",
   "execution_count": 283,
   "id": "2c37fe27",
   "metadata": {},
   "outputs": [],
   "source": [
    "NUM_ITERATIONS = 10"
   ]
  },
  {
   "cell_type": "code",
   "execution_count": 284,
   "id": "179cd994",
   "metadata": {},
   "outputs": [],
   "source": [
    "def new_starting_position(global_, last):\n",
    "    if global_ is None:\n",
    "        # Genera una nuova soluzione casuale se la soluzione globale è nulla\n",
    "        return [choice([True, False]) for _ in range(NUM_SETS)]\n",
    "    else:\n",
    "        # Restituisce la soluzione globale corrente se non è nulla\n",
    "        return global_"
   ]
  },
  {
   "cell_type": "code",
   "execution_count": null,
   "id": "d3dc715b",
   "metadata": {},
   "outputs": [],
   "source": [
    "global_solution = None\n",
    "\n",
    "for iteration in range(NUM_ITERATIONS):\n",
    "    # Fase di miglioramento locale\n",
    "    current_state = new_starting_position(global_solution, None)\n",
    "    current_state = local_search(current_state)\n",
    "    \n",
    "    # Fase di perturbazione\n",
    "    new_state = tweak(current_state)\n",
    "    \n",
    "    # Seconda fase di miglioramento locale sulla soluzione perturbata\n",
    "    new_state = local_search(new_state)\n",
    "    \n",
    "    # Accettazione della soluzione perturbata in base alla funzione obiettivo\n",
    "    if fitness(new_state) < fitness(current_state):\n",
    "        current_state = new_state\n",
    "    \n",
    "    # Aggiornamento della soluzione globale se necessario\n",
    "    if global_solution is None or fitness(current_state) < fitness(global_solution):\n",
    "        global_solution = current_state\n",
    "    \n",
    "    print(fitness(global_solution), iteration)\n",
    "\n",
    "print(fitness(global_solution))\n"
   ]
  }
 ],
 "metadata": {
  "kernelspec": {
   "display_name": "Python 3 (ipykernel)",
   "language": "python",
   "name": "python3"
  },
  "language_info": {
   "codemirror_mode": {
    "name": "ipython",
    "version": 3
   },
   "file_extension": ".py",
   "mimetype": "text/x-python",
   "name": "python",
   "nbconvert_exporter": "python",
   "pygments_lexer": "ipython3",
   "version": "3.10.5"
  }
 },
 "nbformat": 4,
 "nbformat_minor": 5
}
